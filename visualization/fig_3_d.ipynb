{
 "cells": [
  {
   "cell_type": "code",
   "execution_count": 4,
   "metadata": {},
   "outputs": [],
   "source": [
    "#ANNOTATOR 1 Response\n",
    "response_gpt_1 = [\"Y \",\"Y \",\"Y \",\"N \",\"N \",\"Y \",\"Y \",\"Y \",\"Y \",\"Y \",\"Y \",\"Y \",\"Y \",\"N \",\"Y \",\"Y \",\"Y \",\"Y \",\"Y \",\"N \",\"Y \",\"Y \",\"Y \",\"Y \",\"N \",\"N \",\"Y \",\"Y \",\"N \",\"Y \",\"Y \",\"Y \",\"Y \",\"Y \",\"Y \",\"Y \",\"N \",\"Y \",\"N \",\"Y \",\"Y \",\"N \",\"Y \",\"Y \",\"Y \",\"Y \",\"Y \",\"Y \",\"N \",\"N \",\"Y \",\"Y \",\" \",\"Y \",\"Y \",\"N \",\"Y \",\"Y \",\"Y \",\" \",\"Y \",\"Y \",\"Y \",\"Y \",\"Y \",\"Y \",\"Y \",\"Y \",\"N \",\"N \",\"Y \",\"Y \",\" \",\"Y \",\" \",\"Y \",\"Y \",\"Y \",\"Y \",\"N \",\"Y\"]\n",
    "response_mixtral_1 = [\"Y \",\"N \",\"N \",\"N \",\"N \",\"Y \",\"N \",\"Y \",\"N \",\"N \",\"N \",\"N \",\"N \",\"N \",\"N \",\"N \",\"N \",\"Y \",\"N \",\"N \",\"N \",\"N \",\"N \",\"N \",\"N \",\"N \",\"N \",\"N \",\"Y \",\"N \",\"N \",\"N \",\"Y \",\"N \",\"N \",\"N \",\"Y \",\"N \",\"N \",\"N \",\"N \",\"N \",\"Y \",\"N \",\"N \",\"N \",\"N \",\"N \",\"N \",\"N \",\"N \",\"N \",\"Y \",\"N \",\"N \",\"Y \",\"N \",\"N \",\"N \",\"N \",\"Y \",\"N \",\"N \",\"N \",\"N \",\"N \",\"N \",\"N \",\"N \",\"N \",\"Y \",\"Y \",\"N \",\"N \",\"N \",\"N \",\"N \",\"N \",\"N \",\"N \",\"N \"]\n",
    "\n",
    "#ANNOTATOR 2 Response\n",
    "response_gpt_2 = [\"Y \",\"Y \",\"Y \",\"N \",\"N \",\"Y \",\"Y \",\"Y \",\"Y \",\"Y \",\"Y \",\"Y \",\"Y \",\"N \",\"Y \",\"Y \",\"Y \",\"Y \",\"Y \",\"N \",\"Y \",\"Y \",\"Y \",\"Y \",\"N \",\"N \",\"Y \",\"Y \",\"N \",\"Y \",\"Y \",\"Y \",\"Y \",\"Y \",\"Y \",\"Y \",\"Y \",\"Y \",\"N \",\"Y \",\"Y \",\"N \",\"Y \",\"Y \",\"Y \",\"Y \",\"N \",\"Y \",\"N \",\"N \",\"Y \",\"Y \",\"N \",\"Y \",\"Y \",\"N \",\"Y \",\"Y \",\"Y \",\"Y \",\"Y \",\"Y \",\"Y \",\"Y \",\"Y \",\"Y \",\"Y \",\"N \",\"N \",\"N \",\"Y \",\"Y \",\"N \",\"Y \",\"Y \",\"Y \",\"Y \",\"Y \",\"Y \",\"Y \",\"Y \"]\n",
    "response_mixtral_2 = [\"Y \",\"N \",\"N \",\"N \",\"N \",\"Y \",\"N \",\"Y \",\"N \",\"N \",\"N \",\"N \",\"Y \",\"N \",\"N \",\"N \",\"N \",\"Y \",\"Y \",\"N \",\"N \",\"N \",\"N \",\"N \",\"Y \",\"N \",\"N \",\"N \",\"Y \",\"N \",\"N \",\"N \",\"Y \",\"N \",\"N \",\"N \",\"Y \",\"N \",\"N \",\"N \",\"N \",\"N \",\"Y \",\"Y \",\"N \",\"N \",\"N \",\"N \",\"N \",\"N \",\"N \",\"N \",\"Y \",\"N \",\"N \",\"Y \",\"N \",\"N \",\"N \",\"N \",\"Y \",\"N \",\"N \",\"N \",\"N \",\"N \",\"N \",\"N \",\"Y? \",\"N \",\"Y \",\"Y \",\"N \",\"N \",\"N \",\"N \",\" \",\"N \",\"N \",\"N \",\"N \"]\n"
   ]
  },
  {
   "cell_type": "code",
   "execution_count": 5,
   "metadata": {},
   "outputs": [
    {
     "name": "stdout",
     "output_type": "stream",
     "text": [
      "0.7407407407407407 0.16049382716049382\n"
     ]
    }
   ],
   "source": [
    "#ANNOTATOR 1 Result\n",
    "\n",
    "acc_gpt_1 = 0\n",
    "acc_mixtral_1 = 0\n",
    "\n",
    "#count Y in each list and divide by length of list\n",
    "for i in response_gpt_1:\n",
    "    if i == \"Y \":\n",
    "        acc_gpt_1 += 1\n",
    "\n",
    "for i in response_mixtral_1:\n",
    "    if i == \"Y \":\n",
    "        acc_mixtral_1 += 1\n",
    "\n",
    "acc_gpt_1 = acc_gpt_1/len(response_gpt_1)\n",
    "acc_mixtral_1 = acc_mixtral_1/len(response_mixtral_1)\n",
    "print(acc_gpt_1, acc_mixtral_1)\n",
    "\n"
   ]
  },
  {
   "cell_type": "code",
   "execution_count": 6,
   "metadata": {},
   "outputs": [
    {
     "name": "stdout",
     "output_type": "stream",
     "text": [
      "0.7777777777777778 0.20987654320987653\n"
     ]
    }
   ],
   "source": [
    "#ANNOTATOR 2 Result\n",
    "\n",
    "acc_gpt_2 = 0\n",
    "acc_mixtral_2 = 0\n",
    "\n",
    "#count Y in each list and divide by length of list\n",
    "for i in response_gpt_2:\n",
    "    if i == \"Y \":\n",
    "        acc_gpt_2 += 1\n",
    "\n",
    "for i in response_mixtral_2:\n",
    "    if i == \"Y \":\n",
    "        acc_mixtral_2 += 1\n",
    "\n",
    "acc_gpt_2 = acc_gpt_2/len(response_gpt_2)\n",
    "acc_mixtral_2 = acc_mixtral_2/len(response_mixtral_2)\n",
    "print(acc_gpt_2, acc_mixtral_2)"
   ]
  },
  {
   "cell_type": "code",
   "execution_count": 16,
   "metadata": {},
   "outputs": [],
   "source": [
    "import math\n",
    "\n",
    "def truncate(val, decimals=2):\n",
    "    factor = 10 ** decimals\n",
    "    return math.floor(val * factor) / factor"
   ]
  },
  {
   "cell_type": "code",
   "execution_count": 18,
   "metadata": {},
   "outputs": [
    {
     "name": "stderr",
     "output_type": "stream",
     "text": [
      "Duplicate key in file '/mnt/lustre/home/akata/mdani31/semioLLM/visualization/.matplotlibrc', line 15 ('font.sans-serif      : Arial, sans-serif')\n",
      "findfont: Generic family 'sans-serif' not found because none of the following families were found: Arial, sans-serif\n",
      "findfont: Generic family 'sans-serif' not found because none of the following families were found: Arial, sans-serif\n",
      "findfont: Generic family 'sans-serif' not found because none of the following families were found: Arial, sans-serif\n",
      "findfont: Generic family 'sans-serif' not found because none of the following families were found: Arial, sans-serif\n",
      "findfont: Generic family 'sans-serif' not found because none of the following families were found: Arial, sans-serif\n",
      "findfont: Generic family 'sans-serif' not found because none of the following families were found: Arial, sans-serif\n",
      "findfont: Generic family 'sans-serif' not found because none of the following families were found: Arial, sans-serif\n",
      "findfont: Generic family 'sans-serif' not found because none of the following families were found: Arial, sans-serif\n",
      "findfont: Generic family 'sans-serif' not found because none of the following families were found: Arial, sans-serif\n",
      "findfont: Generic family 'sans-serif' not found because none of the following families were found: Arial, sans-serif\n",
      "findfont: Generic family 'sans-serif' not found because none of the following families were found: Arial, sans-serif\n",
      "findfont: Generic family 'sans-serif' not found because none of the following families were found: Arial, sans-serif\n",
      "findfont: Generic family 'sans-serif' not found because none of the following families were found: Arial, sans-serif\n",
      "findfont: Generic family 'sans-serif' not found because none of the following families were found: Arial, sans-serif\n",
      "findfont: Generic family 'sans-serif' not found because none of the following families were found: Arial, sans-serif\n",
      "findfont: Generic family 'sans-serif' not found because none of the following families were found: Arial, sans-serif\n",
      "findfont: Generic family 'sans-serif' not found because none of the following families were found: Arial, sans-serif\n",
      "findfont: Generic family 'sans-serif' not found because none of the following families were found: Arial, sans-serif\n",
      "findfont: Generic family 'sans-serif' not found because none of the following families were found: Arial, sans-serif\n",
      "findfont: Generic family 'sans-serif' not found because none of the following families were found: Arial, sans-serif\n",
      "findfont: Generic family 'sans-serif' not found because none of the following families were found: Arial, sans-serif\n",
      "findfont: Generic family 'sans-serif' not found because none of the following families were found: Arial, sans-serif\n",
      "findfont: Generic family 'sans-serif' not found because none of the following families were found: Arial, sans-serif\n",
      "findfont: Generic family 'sans-serif' not found because none of the following families were found: Arial, sans-serif\n",
      "findfont: Generic family 'sans-serif' not found because none of the following families were found: Arial, sans-serif\n",
      "findfont: Generic family 'sans-serif' not found because none of the following families were found: Arial, sans-serif\n",
      "findfont: Generic family 'sans-serif' not found because none of the following families were found: Arial, sans-serif\n",
      "findfont: Generic family 'sans-serif' not found because none of the following families were found: Arial, sans-serif\n",
      "findfont: Generic family 'sans-serif' not found because none of the following families were found: Arial, sans-serif\n",
      "findfont: Generic family 'sans-serif' not found because none of the following families were found: Arial, sans-serif\n",
      "findfont: Generic family 'sans-serif' not found because none of the following families were found: Arial, sans-serif\n",
      "findfont: Generic family 'sans-serif' not found because none of the following families were found: Arial, sans-serif\n",
      "findfont: Generic family 'sans-serif' not found because none of the following families were found: Arial, sans-serif\n",
      "findfont: Generic family 'sans-serif' not found because none of the following families were found: Arial, sans-serif\n",
      "findfont: Generic family 'sans-serif' not found because none of the following families were found: Arial, sans-serif\n",
      "findfont: Generic family 'sans-serif' not found because none of the following families were found: Arial, sans-serif\n",
      "findfont: Generic family 'sans-serif' not found because none of the following families were found: Arial, sans-serif\n",
      "findfont: Generic family 'sans-serif' not found because none of the following families were found: Arial, sans-serif\n",
      "findfont: Generic family 'sans-serif' not found because none of the following families were found: Arial, sans-serif\n",
      "findfont: Generic family 'sans-serif' not found because none of the following families were found: Arial, sans-serif\n",
      "findfont: Generic family 'sans-serif' not found because none of the following families were found: Arial, sans-serif\n"
     ]
    },
    {
     "data": {
      "image/png": "[encoded data removed]",
      "text/plain": [
       "<Figure size 200x300 with 1 Axes>"
      ]
     },
     "metadata": {},
     "output_type": "display_data"
    }
   ],
   "source": [
    "import matplotlib.pyplot as plt\n",
    "import matplotlib.patches as mpatches\n",
    "import matplotlib as mpl\n",
    "import os\n",
    "\n",
    "current_dir = os.path.dirname(os.path.abspath('__file__'))\n",
    "format_file = os.path.join(current_dir, '.matplotlibrc')\n",
    "with mpl.rc_context(fname=format_file):\n",
    "    # Data\n",
    "    models = ['GPT-4', 'Mixtral8x7B']\n",
    "    accuracy_evaluator_1 = [acc_gpt_1*100, acc_mixtral_1*100]\n",
    "    accuracy_evaluator_2 = [acc_gpt_2*100, acc_mixtral_2*100]\n",
    "\n",
    "    # Calculating the average accuracy for a simple representation\n",
    "    average_accuracy = [truncate((a + b) / 2) for a, b in zip(accuracy_evaluator_1, accuracy_evaluator_2)]\n",
    "\n",
    "    # Creating the figure and the axes with figure size 10x8\n",
    "    fig, ax = plt.subplots(figsize=(2, 3))\n",
    "    bar_width = 0.45\n",
    "    colors = ['#52796F', '#52796F']\n",
    "    alphas = [0.7, 0.3]\n",
    "\n",
    "    # Plotting each bar with its respective alpha value\n",
    "    bars = []\n",
    "    for i in range(len(models)):\n",
    "        bars.append(ax.bar(models[i], average_accuracy[i], bar_width, color=colors[i], alpha=alphas[i]))\n",
    "\n",
    "    # Adding text annotations inside the bars        \n",
    "    for bar, value in zip(bars, average_accuracy):\n",
    "        ax.text(bar[0].get_x() + bar[0].get_width() / 2,  # Centered in the bar\n",
    "                bar[0].get_height() / 2,  # Centered in the bar\n",
    "                f'{value:.2f}',  # Format as percentage\n",
    "                va='center', ha='center', color='black')\n",
    "\n",
    "    plt.ylabel('Average Accuracy (%)')\n",
    "\n",
    "    plt.show()"
   ]
  }
 ],
 "metadata": {
  "kernelspec": {
   "display_name": "semiollm",
   "language": "python",
   "name": "python3"
  },
  "language_info": {
   "codemirror_mode": {
    "name": "ipython",
    "version": 3
   },
   "file_extension": ".py",
   "mimetype": "text/x-python",
   "name": "python",
   "nbconvert_exporter": "python",
   "pygments_lexer": "ipython3",
   "version": "3.9.23"
  }
 },
 "nbformat": 4,
 "nbformat_minor": 2
}
