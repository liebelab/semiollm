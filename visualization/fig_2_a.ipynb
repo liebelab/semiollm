{
 "cells": [
  {
   "cell_type": "code",
   "execution_count": 1,
   "metadata": {},
   "outputs": [],
   "source": [
    "import seaborn as sns\n",
    "import matplotlib.pyplot as plt\n",
    "import pandas as pd\n",
    "import numpy as np\n",
    "import os\n",
    "import json"
   ]
  },
  {
   "cell_type": "markdown",
   "metadata": {},
   "source": [
    "# LOAD the data"
   ]
  },
  {
   "cell_type": "code",
   "execution_count": 2,
   "metadata": {},
   "outputs": [],
   "source": [
    "# Get the current notebook's directory\n",
    "current_dir = os.path.dirname(os.path.abspath('__file__'))\n",
    "# Go up one level to the project root if needed\n",
    "project_root = os.path.dirname(current_dir)\n",
    "# Define paths relative to those locations\n",
    "bootstrap_res_dir = os.path.join(project_root, 'data_files')\n",
    "bootstrap_mean_file = 'mean_dict_nature_bootstrap.json'\n",
    "\n",
    "#load the mean dict and convert it to dictionary with the keys as the model names and the values as the mean values of each prompt style\n",
    "input_dict = json.load(open(os.path.join(bootstrap_res_dir, bootstrap_mean_file)))\n",
    "\n",
    "full_bootstrap_dict = json.load(open(os.path.join(bootstrap_res_dir, 'f1_dict_nature_bootstrap.json')))"
   ]
  },
  {
   "cell_type": "code",
   "execution_count": 3,
   "metadata": {},
   "outputs": [
    {
     "name": "stdout",
     "output_type": "stream",
     "text": [
      "48.77 46.21 48.79 51.42\n",
      "3.887115369721961 3.833196224882175 3.8875253738277458 3.9400272018377436\n"
     ]
    }
   ],
   "source": [
    "full_bootstrap_dict['ClinicalResponse']\n",
    "#get mean, qaurtiles of this full_bootstrap_dict['ClinicalResponse]\n",
    "\n",
    "mean_clin = int(np.mean(full_bootstrap_dict['ClinicalResponse'])*100)/100\n",
    "q1_clin = int(np.percentile(full_bootstrap_dict['ClinicalResponse'], 25)*100)/100\n",
    "q3_clin = int(np.percentile(full_bootstrap_dict['ClinicalResponse'], 75)*100)/100\n",
    "median_clin = int(np.percentile(full_bootstrap_dict['ClinicalResponse'], 50)*100)/100\n",
    "print(mean_clin, q1_clin, median_clin, q3_clin)\n",
    "print(np.log(mean_clin), np.log(q1_clin), np.log(median_clin), np.log(q3_clin))\n"
   ]
  },
  {
   "cell_type": "code",
   "execution_count": 4,
   "metadata": {},
   "outputs": [],
   "source": [
    "# Prompt styles\n",
    "prompt_styles = [\"Zero-Shot\", \"Few-Shot\", \"CoT\", \"FewShot-CoT\", \"SC\"]\n",
    "# Mapping of models to their respective prefixes\n",
    "model_mapping = {\n",
    "    \"GPT-3.5\": \"gpt-3.5-turbo-1106\",\n",
    "    \"GPT-4.0\": \"gpt-4-1106-preview\",\n",
    "    \"Mixtral-8x7B\": \"mixtral-8x7b-instruct\",\n",
    "    \"Qwen-72B\": \"qwen-72b\",\n",
    "    \"LlaMa2-70B\": \"llama-v2-70b-chat\",\n",
    "    \"LlaMa3-70B\": \"llama-v3-70B-instruct\"\n",
    "}\n",
    "\n",
    "# Initialize output dictionary\n",
    "all_models_mean_values = {}\n",
    "all_models_bootstrap_values = {}\n",
    "\n",
    "# Populate the output dictionary\n",
    "for model, prefix in model_mapping.items():\n",
    "    mean_values = []\n",
    "    bootstrap_values = []\n",
    "    for style in [\"zero-shot\", \"5-shot\", \"zs-cot\", \"fs-cot\", \"sc-cot\"]:\n",
    "        key = f\"{prefix}_{style}\"\n",
    "        #mean_values.append(round(input_dict.get(key, 0), 2))\n",
    "        mean_values.append(int(input_dict.get(key, 0) * 100) / 100)\n",
    "        bootstrap_values.append(full_bootstrap_dict.get(key, 0))\n",
    "    all_models_mean_values[model] = mean_values\n",
    "    all_models_bootstrap_values[model] = bootstrap_values\n",
    "\n",
    "# Result\n",
    "output_dict = {\n",
    "    \"all_models_mean_values\": all_models_mean_values\n",
    "}\n",
    "\n",
    "bootstrap_output_dict = {\n",
    "    \"all_models_bootstrap_values\": all_models_bootstrap_values\n",
    "}"
   ]
  },
  {
   "cell_type": "markdown",
   "metadata": {},
   "source": [
    "# formatting visualization "
   ]
  },
  {
   "cell_type": "code",
   "execution_count": 6,
   "metadata": {},
   "outputs": [
    {
     "name": "stderr",
     "output_type": "stream",
     "text": [
      "Duplicate key in file '/home/mdani31/semioLLM/visualization/.matplotlibrc', line 15 ('font.sans-serif      : Arial, sans-serif')\n"
     ]
    },
    {
     "name": "stderr",
     "output_type": "stream",
     "text": [
      "/tmp/ipykernel_399691/3918998775.py:75: UserWarning: FixedFormatter should only be used together with FixedLocator\n",
      "  ax.set_xticklabels(['ZS', 'FS', 'CoT', 'FS-CoT', 'SC'])\n"
     ]
    },
    {
     "data": {
      "image/png": "[encoded data removed]",
      "text/plain": [
       "<Figure size 400x300 with 1 Axes>"
      ]
     },
     "metadata": {},
     "output_type": "display_data"
    }
   ],
   "source": [
    "import logging\n",
    "logging.getLogger(\"matplotlib.font_manager\").setLevel(logging.ERROR)\n",
    "\n",
    "import matplotlib as mpl\n",
    "\n",
    "format_file = os.path.join(current_dir, '.matplotlibrc')\n",
    "with mpl.rc_context(fname=format_file):\n",
    "# Prepare data for the box plot\n",
    "    data = {\n",
    "        \"Prompt Style\": [],\n",
    "        \"F1 Score\": [],\n",
    "        \"Model\": []\n",
    "    }\n",
    "    # Map full prompt styles to short names\n",
    "    prompt_style_map = {\n",
    "        \"Zero-Shot\": \"ZS\",\n",
    "        \"Few-Shot\": \"FS\",\n",
    "        \"Chain-of-Thought\": \"CoT\",\n",
    "        \"Few-Shot-CoT\": \"FS-CoT\",\n",
    "        \"Self-Consistency\": \"SC\"\n",
    "    }\n",
    "\n",
    "    # Populate the data dictionary\n",
    "    for model, scores in all_models_mean_values.items():\n",
    "        for i, score in enumerate(scores):\n",
    "            data[\"Prompt Style\"].append(prompt_styles[i])\n",
    "            data[\"F1 Score\"].append(score)\n",
    "            data[\"Model\"].append(model)\n",
    "\n",
    "    # Clinicians data\n",
    "    mean_clinician = int(input_dict['ClinicalResponse'] * 100) / 100\n",
    "    conf_int = json.load(open(os.path.join(bootstrap_res_dir, 'all_confidence_nature_bootstrap.json')))\n",
    "    conf_int_clinician = conf_int['ClinicalResponse']\n",
    "    # Convert to DataFrame\n",
    "    df = pd.DataFrame(data)\n",
    "    # Plotting a box plot\n",
    "    plt.figure(figsize=(4, 3))\n",
    "\n",
    "    ax = sns.boxplot(\n",
    "        x=\"Prompt Style\", \n",
    "        y=\"F1 Score\", \n",
    "        data=df, \n",
    "        showfliers=False,\n",
    "        boxprops=dict(facecolor=\"none\", edgecolor=\"gray\"),\n",
    "        whiskerprops=dict(color=\"gray\"),\n",
    "        capprops=dict(color=\"gray\"),\n",
    "        medianprops=dict(color=\"orange\"),\n",
    "        width=0.5\n",
    "    )\n",
    "\n",
    "    # Strip plot\n",
    "    model_datapoints = sns.stripplot(\n",
    "        data=df,\n",
    "        x='Prompt Style',\n",
    "        y=\"F1 Score\",\n",
    "        hue = 'Model',\n",
    "        palette='colorblind',\n",
    "        size=4,\n",
    "        jitter=True,\n",
    "        alpha=0.7\n",
    "    )\n",
    "    # Add horizontal line for lower bound\n",
    "    plt.axhline(y=38.21, color='#d62728', linestyle='--', label='Lower Bound', alpha=0.7)\n",
    "\n",
    "    # Add red dot for clinician output\n",
    "    plt.scatter(x=[-1], y=[mean_clinician], color='#d62728', marker='o', s=40, label='Clinician', alpha=0.7)\n",
    "\n",
    "    plt.errorbar(x=[-1], y=[mean_clinician], yerr=[[mean_clinician - q1_clin], [q3_clin - mean_clinician]], fmt='o', color='#d62728', capsize=5, capthick=2)\n",
    "    #print Q1 and Q3 at the error bars\n",
    "    plt.text(-0.56, 46.2, 'Q1', ha='right', va='center', color='r')\n",
    "    plt.text(-0.56, 51.42, 'Q3', ha='right', va='center', color='r')\n",
    "    # Legend and labels\n",
    "    plt.legend(bbox_to_anchor=(1.05, 1.10), loc='upper left')\n",
    "    plt.ylabel(\"Performance (F1 Score)\")\n",
    "    ax.set_xticklabels(['ZS', 'FS', 'CoT', 'FS-CoT', 'SC'])\n",
    "    #plt.tight_layout()\n",
    "    #despine and remove grid\n",
    "    sns.despine()\n",
    "    plt.grid(False)\n",
    "    #plt.savefig(\"correctness_score.svg\")\n",
    "    plt.show()\n"
   ]
  }
 ],
 "metadata": {
  "kernelspec": {
   "display_name": "semiollm",
   "language": "python",
   "name": "python3"
  },
  "language_info": {
   "codemirror_mode": {
    "name": "ipython",
    "version": 3
   },
   "file_extension": ".py",
   "mimetype": "text/x-python",
   "name": "python",
   "nbconvert_exporter": "python",
   "pygments_lexer": "ipython3",
   "version": "3.8.18"
  }
 },
 "nbformat": 4,
 "nbformat_minor": 2
}
