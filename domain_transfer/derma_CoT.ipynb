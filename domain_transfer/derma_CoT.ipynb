{
 "cells": [
  {
   "cell_type": "markdown",
   "id": "37a1307e",
   "metadata": {},
   "source": [
    "#Define persona\n"
   ]
  },
  {
   "cell_type": "code",
   "execution_count": 1,
   "id": "d957a6db",
   "metadata": {},
   "outputs": [],
   "source": [
    "SYS_PROMPT_GEN = \"You are a helpful AI Assistant\"\n",
    "SYS_PROMPT_1 = \"You are a helpful medical assistant\"\n",
    "SYS_PROMPT_2 = \"You are an experienced general physician\"\n",
    "\n",
    "domain_expert = 'dermatologist'\n",
    "SYS_PROMPT = f\"You are a knowlegeable {domain_expert} with 30 years of experience.\""
   ]
  },
  {
   "cell_type": "code",
   "execution_count": null,
   "id": "39cfbc83",
   "metadata": {},
   "outputs": [],
   "source": [
    "import pandas as pd\n",
    "\n",
    "COT_1 = \"think step-by-step\"\n",
    "domain = \"skin\"\n",
    "\n",
    "disease_list = [\"Acne\", \"Fungal infection\", \"Impetigo\", \"Psoriasis\", \"Chicken pox\", \"others\"]\n",
    "\n",
    "data_frame = pd.read_csv('resources/Symptom2Disease.csv')\n",
    "\n",
    "filtered_df = data_frame[data_frame['label'].isin(disease_list)]\n",
    "#rename column 0 to id \n",
    "filtered_df = filtered_df.rename(columns={filtered_df.columns[0]: 'id'})\n",
    "\n",
    "#choose a random 20 rows to sample \n",
    "filtered_df = filtered_df.sample(n=20, random_state=1)"
   ]
  },
  {
   "cell_type": "markdown",
   "id": "e9acb0c3",
   "metadata": {},
   "source": [
    "#Prompt examples"
   ]
  },
  {
   "cell_type": "code",
   "execution_count": 4,
   "id": "b290fa4a",
   "metadata": {},
   "outputs": [],
   "source": [
    "def get_query_prompt(symptom, disease_list, COT, domain, system_prompt):\n",
    "    \"\"\"\n",
    "    This function generates a query prompt for the AI model.\n",
    "    \n",
    "    Parameters:\n",
    "    symptom (str): The symptom to be analyzed.\n",
    "    disease_list (list): The list of diseases to consider.\n",
    "    COT (str): The chain of thought prompt.\n",
    "    domain (str): The medical domain for the query.\n",
    "\n",
    "    Returns:\n",
    "    list: A list containing the system and user prompts.\n",
    "    \"\"\"\n",
    "    \n",
    "    # Generate the message\n",
    "\n",
    "    message = [\n",
    "                {\n",
    "                'role': \"system\", \n",
    "                'content': system_prompt\n",
    "                },\n",
    "                {\n",
    "                \"role\": \"user\",\n",
    "                \"content\": f\"\"\"Q: A patient comes into the clinic describing the symptom '{symptom}', \\\n",
    "                        Determine the likelihood in percentage of severity of disease involved from the given list '{disease_list}', \\\n",
    "                        {COT} and by referring to wikipedia articles and approved glossary on {domain}] and medicine for help \\\n",
    "                        and give the final answer. The following is the schema you must follow: \\\n",
    "                        ----- \\\n",
    "                        SCHEMA  The output (Likelihood) should be formatted as a JSON object. \\\n",
    "                        ----- \\\n",
    "                        'Reasoning': This is where you will break the question down and solve it step by step with explained reasoning.\\\n",
    "                        'Source': Cite the source used for reasoning. \\\n",
    "                        'Likelihood': [Acne: a%, Fungal infection: b%, Impetigo: c%, Psoriasis: d%, Chicken pox: e%, others: f% ] \\\n",
    "                        Please answer in unbaised manner and in case when you do not have the information about any disease \\\n",
    "                        , please mention it as '0%' likelihood estimate. \\\n",
    "                        Avoid adding any other information and stick to the output format mentioned above.\"\"\"          \n",
    "              }      \n",
    "    ]\n",
    "    return message\n"
   ]
  },
  {
   "cell_type": "code",
   "execution_count": 5,
   "id": "73eac250",
   "metadata": {},
   "outputs": [
    {
     "name": "stderr",
     "output_type": "stream",
     "text": [
      "/mnt/lustre/work/akata/mdani31/anaconda3/envs/semiollm/lib/python3.9/site-packages/tqdm/auto.py:21: TqdmWarning: IProgress not found. Please update jupyter and ipywidgets. See https://ipywidgets.readthedocs.io/en/stable/user_install.html\n",
      "  from .autonotebook import tqdm as notebook_tqdm\n",
      "/mnt/lustre/work/akata/mdani31/anaconda3/envs/semiollm/lib/python3.9/site-packages/transformers/utils/generic.py:441: FutureWarning: `torch.utils._pytree._register_pytree_node` is deprecated. Please use `torch.utils._pytree.register_pytree_node` instead.\n",
      "  _torch_pytree._register_pytree_node(\n",
      "/mnt/lustre/work/akata/mdani31/anaconda3/envs/semiollm/lib/python3.9/site-packages/transformers/utils/generic.py:441: FutureWarning: `torch.utils._pytree._register_pytree_node` is deprecated. Please use `torch.utils._pytree.register_pytree_node` instead.\n",
      "  _torch_pytree._register_pytree_node(\n",
      "/mnt/lustre/work/akata/mdani31/anaconda3/envs/semiollm/lib/python3.9/site-packages/transformers/utils/generic.py:309: FutureWarning: `torch.utils._pytree._register_pytree_node` is deprecated. Please use `torch.utils._pytree.register_pytree_node` instead.\n",
      "  _torch_pytree._register_pytree_node(\n",
      "/mnt/lustre/work/akata/mdani31/anaconda3/envs/semiollm/lib/python3.9/site-packages/transformers/utils/generic.py:309: FutureWarning: `torch.utils._pytree._register_pytree_node` is deprecated. Please use `torch.utils._pytree.register_pytree_node` instead.\n",
      "  _torch_pytree._register_pytree_node(\n"
     ]
    },
    {
     "name": "stdout",
     "output_type": "stream",
     "text": [
      "Answer for id: 167 - {\n",
      "  \"Reasoning\": \"The patient's symptoms of high fever, swollen lymph nodes, headache, weakness, fatigue, and difficulty concentrating are not typical for conditions like acne, fungal infections, psoriasis, or impetigo. Acne is a skin condition that does not cause fever or systemic symptoms. Fungal infections can cause local symptoms but are not typically associated with high fever and systemic issues unless it is a widespread or invasive infection. Psoriasis is a chronic autoimmune condition that affects the skin and joints but does not cause fever or swollen lymph nodes. Impetigo is a bacterial skin infection that can cause local symptoms but usually does not cause high fever or swollen lymph nodes unless it has led to a more severe systemic infection. Chickenpox, on the other hand, is known to cause fever, fatigue, and headache, along with a characteristic rash and itchy blisters. It can also cause swollen lymph nodes. Given the systemic nature of the symptoms, 'others' could include various systemic infections or illnesses that are not specified in the list provided.\",\n",
      "  \"Source\": \"Clinical experience and standard medical knowledge as a dermatologist. For specific disease information, refer to medical textbooks or resources such as the American Academy of Dermatology (https://www.aad.org/) or the Centers for Disease Control and Prevention (https://www.cdc.gov/).\",\n",
      "  \"Likelihood\": [\n",
      "    \"Acne: 0%\",\n",
      "    \"Fungal infection: 5%\",\n",
      "    \"Impetigo: 5%\",\n",
      "    \"Psoriasis: 0%\",\n",
      "    \"Chicken pox: 80%\",\n",
      "    \"others: 10%\"\n",
      "  ]\n",
      "}\n",
      "Answer for id: 299 - {\n",
      "  \"Reasoning\": \"The patient's symptoms include an itching rash with pus-filled pimples and blackheads, and sensitive skin. Acne is characterized by pimples and blackheads, but it is not typically described as an 'itching rash' and is less likely to be associated with widespread skin sensitivity. Fungal infections can cause itching and rashes, but they are less commonly associated with pus-filled pimples and blackheads. Impetigo is a bacterial skin infection that can cause itching, rashes, and pus-filled sores, which aligns with the patient's symptoms. Psoriasis typically presents with red, scaly patches and is not commonly associated with pus-filled pimples or blackheads. Chickenpox causes an itchy rash with fluid-filled blisters, but not typically blackheads. 'Others' could include a variety of dermatological conditions, but without more specific information, it is difficult to assign a likelihood. Therefore, based on the symptoms described, impetigo seems to be the most likely diagnosis, followed by a fungal infection, acne, and others, with psoriasis and chickenpox being less likely.\",\n",
      "  \"Source\": \"Clinical experience and standard dermatological knowledge.\",\n",
      "  \"Likelihood\": [\n",
      "    \"Acne: 10%\",\n",
      "    \"Fungal infection: 20%\",\n",
      "    \"Impetigo: 40%\",\n",
      "    \"Psoriasis: 5%\",\n",
      "    \"Chicken pox: 5%\",\n",
      "    \"others: 20%\"\n",
      "  ]\n",
      "}\n"
     ]
    }
   ],
   "source": [
    "#for each 'text' in dataframe generate the query prompt\n",
    "import sys\n",
    "import os\n",
    "\n",
    "# Add the parent directory (semiollm) to Python path\n",
    "sys.path.append(os.path.dirname(os.path.abspath('')))\n",
    "\n",
    "from src.models.models import OpenAIModel\n",
    "from src.helper.result_parser import form_json\n",
    "\n",
    "def get_model_response(message, llm_model):\n",
    "    if 'gpt' in llm_model or 'davinci' in llm_model :\n",
    "        sys_prompt = message[0]\n",
    "        input_text = message[1:]\n",
    "        gpt= OpenAIModel(llm_model, max_new_tokens=800, temperature=0.2,\n",
    "                                top_p=0.1, system_prompt=sys_prompt)\n",
    "        answer = gpt.predict(input_text)\n",
    "    return answer\n",
    "    \n",
    "# Create a dictionary to store the results\n",
    "query_prompts = []\n",
    "ground_truth = []\n",
    "result_dictionary = {}\n",
    "for index, row in filtered_df.iterrows():\n",
    "    symptom = row['text']\n",
    "    ground_truth.append(row['label'])\n",
    "    id = row['id']\n",
    "    #print(f\"for id: {id} Symptom: {symptom} - Disease: {ground_truth}\")\n",
    "    # Generate the query prompt\n",
    "    query_prompt = get_query_prompt(symptom, disease_list, COT_1, domain, SYS_PROMPT)\n",
    "    query_prompts.append(query_prompt)\n",
    "    answer = get_model_response(query_prompt, llm_model=\"gpt-4-1106-preview\")\n",
    "    print(f\"Answer for id: {id} - {answer}\")\n",
    "    res_dict = form_json(answer)\n",
    "    result_dictionary[id] = res_dict"
   ]
  },
  {
   "cell_type": "code",
   "execution_count": 12,
   "id": "bc6b13cf",
   "metadata": {},
   "outputs": [],
   "source": [
    "#the result_dictionary is the output generated\n",
    "#for each key in the dictionary, get the value of 'Likelihood' and compare it with the ground truth\n",
    "\n",
    "def eval_model(result_dictionary, ground_truth):\n",
    "    \"\"\"\n",
    "    This function evaluates the model's predictions against the ground truth.\n",
    "    \n",
    "    Parameters:\n",
    "    result_dictionary (dict): The dictionary containing model predictions.\n",
    "    ground_truth (list): The list of actual diseases.\n",
    "\n",
    "    Returns:\n",
    "    None\n",
    "    \"\"\"\n",
    "    pred = []\n",
    "\n",
    "    #loop over result_dictionary and get the value of 'Likelihood' for each key\n",
    "    for key, value in result_dictionary.items():\n",
    "        try:\n",
    "            #if result_dictionary is {} or None, say output is None\n",
    "            if not value:\n",
    "                print(f\"for id: {key} - Likelihood: {value} and res: None\")\n",
    "                pred.append(None)\n",
    "                continue\n",
    "            output = -1\n",
    "            likelihood = result_dictionary[key]['predicted_likelihood']\n",
    "            for disorder, val in likelihood.items():\n",
    "                try:\n",
    "                    if '-' in val:\n",
    "                        low, high = map(float, val.rstrip('%').split('-'))\n",
    "                        res = (low + high) / 2\n",
    "                    elif '%' in val:\n",
    "                        res = float(val.rstrip('%'))\n",
    "                except:\n",
    "                    try:\n",
    "                        res = float(val) # try converting without stripping '%'\n",
    "                    except:\n",
    "                        print(f\"Error in converting string to float. Check the value {val} for key {key} and index {index}\")\n",
    "                        res = 0.0\n",
    "                if res > output:    \n",
    "                    output = res\n",
    "                    outcome_disease = disorder  \n",
    "        except:\n",
    "            outcome_disease = None      \n",
    "        print(f\"for id: {key} - Likelihood: {likelihood} and result: {outcome_disease}\")\n",
    "        pred.append(outcome_disease)\n",
    "\n",
    "    #compare pred and ground truth and print the accuracy\n",
    "    correct = 0\n",
    "    for i in range(len(pred)):\n",
    "        if pred[i] == ground_truth[i]:\n",
    "            correct += 1\n",
    "    accuracy = correct / len(pred) * 100\n",
    "    print(f\"Accuracy: {accuracy}%\")\n",
    "        "
   ]
  },
  {
   "cell_type": "code",
   "execution_count": 13,
   "id": "6a63ac8b",
   "metadata": {},
   "outputs": [
    {
     "name": "stdout",
     "output_type": "stream",
     "text": [
      "for id: 167 - Likelihood: {'Acne': '0%', 'Fungal infection': '0%', 'Impetigo': '10%', 'Psoriasis': '0%', 'Chicken pox': '70%', 'others': '20%'} and result: Chicken pox\n",
      "for id: 299 - Likelihood: {'Acne': '30%', 'Fungal infection': '20%', 'Impetigo': '25%', 'Psoriasis': '5%', 'Chicken pox': '10%', 'others': '10%'} and result: Acne\n",
      "for id: 280 - Likelihood: {'Acne': '40%', 'Fungal infection': '20%', 'Impetigo': '15%', 'Psoriasis': '5%', 'Chicken pox': '0%', 'others': '20%'} and result: Acne\n",
      "for id: 11 - Likelihood: {'Acne': '0%', 'Fungal infection': '30%', 'Impetigo': '10%', 'Psoriasis': '20%', 'Chicken pox': '15%', 'others': '25%'} and result: Fungal infection\n",
      "for id: 191 - Likelihood: {'Acne': '0%', 'Fungal infection': '0%', 'Impetigo': '0%', 'Psoriasis': '0%', 'Chicken pox': '10%', 'others': '90%'} and result: others\n",
      "for id: 274 - Likelihood: {'Acne': '70%', 'Fungal infection': '10%', 'Impetigo': '5%', 'Psoriasis': '0%', 'Chicken pox': '0%', 'others': '15%'} and result: Acne\n",
      "for id: 158 - Likelihood: [{'Acne': '0%'}, {'Fungal infection': '30%'}, {'Impetigo': '20%'}, {'Psoriasis': '10%'}, {'Chicken pox': '25%'}, {'others': '15%'}] and result: None\n",
      "for id: 284 - Likelihood: {'Acne': '30%', 'Fungal infection': '20%', 'Impetigo': '25%', 'Psoriasis': '5%', 'Chicken pox': '10%', 'others': '10%'} and result: Acne\n",
      "for id: 30 - Likelihood: {'Acne': '0%', 'Fungal infection': '30%', 'Impetigo': '10%', 'Psoriasis': '25%', 'Chicken pox': '5%', 'others': '30%'} and result: Fungal infection\n",
      "for id: 4 - Likelihood: {'Acne': '0%', 'Fungal infection': '10%', 'Impetigo': '0%', 'Psoriasis': '80%', 'Chicken pox': '0%', 'others': '10%'} and result: Psoriasis\n",
      "for id: 292 - Likelihood: {'Acne': '10%', 'Fungal infection': '20%', 'Impetigo': '25%', 'Psoriasis': '5%', 'Chicken pox': '15%', 'others': '25%'} and result: Impetigo\n",
      "for id: 38 - Likelihood: {'Acne': '0%', 'Fungal infection': '30%', 'Impetigo': '10%', 'Psoriasis': '25%', 'Chicken pox': '5%', 'others': '30%'} and result: Fungal infection\n",
      "for id: 216 - Likelihood: {'Acne': '5%', 'Fungal infection': '10%', 'Impetigo': '40%', 'Psoriasis': '5%', 'Chicken pox': '10%', 'others': '30%'} and result: Impetigo\n",
      "for id: 32 - Likelihood: {'Acne': '0%', 'Fungal infection': '20%', 'Impetigo': '10%', 'Psoriasis': '25%', 'Chicken pox': '5%', 'others': '40%'} and result: others\n",
      "for id: 227 - Likelihood: {'Acne': '0%', 'Fungal infection': '10%', 'Impetigo': '40%', 'Psoriasis': '0%', 'Chicken pox': '40%', 'others': '10%'} and result: Impetigo\n",
      "for id: 178 - Likelihood: {'Acne': '0%', 'Fungal infection': '10%', 'Impetigo': '5%', 'Psoriasis': '5%', 'Chicken pox': '70%', 'others': '10%'} and result: Chicken pox\n",
      "for id: 34 - Likelihood: {'Acne': '0%', 'Fungal infection': '30%', 'Impetigo': '10%', 'Psoriasis': '25%', 'Chicken pox': '5%', 'others': '30%'} and result: Fungal infection\n",
      "for id: 151 - Likelihood: {'Acne': '0%', 'Fungal infection': '0%', 'Impetigo': '0%', 'Psoriasis': '0%', 'Chicken pox': '0%', 'others': '100%'} and result: others\n",
      "for id: 27 - Likelihood: {'Acne': '0%', 'Fungal infection': '10%', 'Impetigo': '5%', 'Psoriasis': '30%', 'Chicken pox': '20%', 'others': '35%'} and result: others\n",
      "for id: 173 - Likelihood: {'Acne': '0%', 'Fungal infection': '10%', 'Impetigo': '5%', 'Psoriasis': '0%', 'Chicken pox': '80%', 'others': '5%'} and result: Chicken pox\n",
      "Accuracy: 70.0%\n"
     ]
    }
   ],
   "source": [
    "eval_model(result_dictionary, ground_truth)"
   ]
  },
  {
   "cell_type": "markdown",
   "id": "75a9fda6",
   "metadata": {},
   "source": [
    "#COT improved the result by 15% compared to ZS (55%) for domain expert "
   ]
  }
 ],
 "metadata": {
  "kernelspec": {
   "display_name": "semiollm",
   "language": "python",
   "name": "python3"
  },
  "language_info": {
   "codemirror_mode": {
    "name": "ipython",
    "version": 3
   },
   "file_extension": ".py",
   "mimetype": "text/x-python",
   "name": "python",
   "nbconvert_exporter": "python",
   "pygments_lexer": "ipython3",
   "version": "3.9.23"
  }
 },
 "nbformat": 4,
 "nbformat_minor": 5
}
